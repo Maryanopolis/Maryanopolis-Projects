{
  "nbformat": 4,
  "nbformat_minor": 0,
  "metadata": {
    "colab": {
      "name": "Copy of Assignment Week 7.ipynb",
      "provenance": [],
      "include_colab_link": true
    },
    "kernelspec": {
      "name": "python3",
      "display_name": "Python 3"
    }
  },
  "cells": [
    {
      "cell_type": "markdown",
      "metadata": {
        "id": "view-in-github",
        "colab_type": "text"
      },
      "source": [
        "<a href=\"https://colab.research.google.com/github/Maryanopolis/Maryanopolis-Projects/blob/master/Copy_of_Assignment_Week_7.ipynb\" target=\"_parent\"><img src=\"https://colab.research.google.com/assets/colab-badge.svg\" alt=\"Open In Colab\"/></a>"
      ]
    },
    {
      "cell_type": "markdown",
      "metadata": {
        "id": "ssVL6QEUKk_L"
      },
      "source": [
        "# WEEK 7 ASSIGNMENT : Working with Strings\n",
        "\n",
        "----------------\n",
        "\n",
        "You are encouraged to create a new blank workbook for your solutions. You should then save your solutions into GitHub.\n",
        "\n",
        "**0)** Write a program that prints the following by using the VARIABLE.upper() and VARIABLE.lower() commands:\n",
        "\"Hello World\"\n",
        "\"HELLO WORLD\"\n",
        "\"hello world\"\n",
        "\n",
        "**1)** Define a python function, hasVowels(str), that takes in a string as input to the function and checks to see if the string contains any vowels. Your function should return True if the string has a vowel and False if the string does not have a vowel. \n",
        "\n",
        "If your **hasVowels** function is written correctly then the following test code should work:\n",
        " "
      ]
    },
    {
      "cell_type": "code",
      "metadata": {
        "id": "2udnQYLbKddY",
        "outputId": "64b4a4dc-032c-4983-e6e1-7927196de232",
        "colab": {
          "base_uri": "https://localhost:8080/",
          "height": 231
        }
      },
      "source": [
        "word = \"berry\"\n",
        "not_word = \"fghjk\"\n",
        "\n",
        "if hasVowels(word):\n",
        "  print(\"The string\", word, \"has at least one vowel\")\n",
        "else:\n",
        "  print(\"The string\", word, \"does not have any vowels\")\n",
        "\n",
        "if hasVowels(not_word):\n",
        "  print(\"The string\", not_word, \"has at least one vowel\")\n",
        "else:\n",
        "  print(\"The string\", not_word, \"does not have any vowels\")"
      ],
      "execution_count": 24,
      "outputs": [
        {
          "output_type": "error",
          "ename": "NameError",
          "evalue": "ignored",
          "traceback": [
            "\u001b[0;31m---------------------------------------------------------------------------\u001b[0m",
            "\u001b[0;31mNameError\u001b[0m                                 Traceback (most recent call last)",
            "\u001b[0;32m<ipython-input-24-11c2d512a3fc>\u001b[0m in \u001b[0;36m<module>\u001b[0;34m()\u001b[0m\n\u001b[1;32m      2\u001b[0m \u001b[0mnot_word\u001b[0m \u001b[0;34m=\u001b[0m \u001b[0;34m\"fghjk\"\u001b[0m\u001b[0;34m\u001b[0m\u001b[0;34m\u001b[0m\u001b[0m\n\u001b[1;32m      3\u001b[0m \u001b[0;34m\u001b[0m\u001b[0m\n\u001b[0;32m----> 4\u001b[0;31m \u001b[0;32mif\u001b[0m \u001b[0mhasVowels\u001b[0m\u001b[0;34m(\u001b[0m\u001b[0mword\u001b[0m\u001b[0;34m)\u001b[0m\u001b[0;34m:\u001b[0m\u001b[0;34m\u001b[0m\u001b[0;34m\u001b[0m\u001b[0m\n\u001b[0m\u001b[1;32m      5\u001b[0m   \u001b[0mprint\u001b[0m\u001b[0;34m(\u001b[0m\u001b[0;34m\"The string\"\u001b[0m\u001b[0;34m,\u001b[0m \u001b[0mword\u001b[0m\u001b[0;34m,\u001b[0m \u001b[0;34m\"has at least one vowel\"\u001b[0m\u001b[0;34m)\u001b[0m\u001b[0;34m\u001b[0m\u001b[0;34m\u001b[0m\u001b[0m\n\u001b[1;32m      6\u001b[0m \u001b[0;32melse\u001b[0m\u001b[0;34m:\u001b[0m\u001b[0;34m\u001b[0m\u001b[0;34m\u001b[0m\u001b[0m\n",
            "\u001b[0;31mNameError\u001b[0m: name 'hasVowels' is not defined"
          ]
        }
      ]
    },
    {
      "cell_type": "markdown",
      "metadata": {
        "id": "wMs6Ap_qMJDo"
      },
      "source": [
        "**2)** Write a Python program that makes use of your existing **hasVowels** function to do the following task. Repeatedly ask the user to enter a word with vowels from the keyboard, you should stop when the user correctly enters a word with vowels. \n",
        "\n",
        "For example, if the user first types \"fhbjk\" and then types \"mbbccv\" you should keep asking the user to try again until they finally successfully enter something that has at least one vowel."
      ]
    },
    {
      "cell_type": "markdown",
      "metadata": {
        "id": "3zKsF4QiMxTu"
      },
      "source": [
        "**3)** Define a Python function called, countVowels(str), that takes in a string as input to the function and returns the number of vowels in the string. \n",
        "\n",
        "You should have a count variable inside the function and then loop through the letters in the string and check each one to see if it is a vowel. \n",
        "\n",
        "If your **countVowels** function is written correctly then the following test code should work.\n",
        "\n"
      ]
    },
    {
      "cell_type": "code",
      "metadata": {
        "id": "JTWk3nZWNSTO"
      },
      "source": [
        "name1 = \"matthew\"\n",
        "name2 = \"lepinski\"\n",
        "\n",
        "count1 = countVowels(name1)\n",
        "count2 = countVowels(name2)\n",
        "\n",
        "print(name1, \"has\", count1, \"vowels in it\")\n",
        "print(name2, \"has\", count2, \"vowels in it\")"
      ],
      "execution_count": null,
      "outputs": []
    },
    {
      "cell_type": "markdown",
      "metadata": {
        "id": "6JyIDGJyNmJF"
      },
      "source": [
        "**4)** Write a Python program that starts with an empty list and then asks the user to enter a word. The program should add the word to the list and then ask for a new word (and add the new word to the list) and continue like this until the user enters \"stop\" or \"STOP\" or \"STop\" or any variation like \"sTOP\" or \"stoP\".\n",
        "\n",
        "Note: We did something similar to this last week, you might want to look at the Week 6 assignment or worksheet for inspiration"
      ]
    },
    {
      "cell_type": "markdown",
      "metadata": {
        "id": "QmWEmSA9OXtN"
      },
      "source": [
        "**5)** Use your **countVowels** funciton from problem 3 and your list of words from problem 4 together to figure out the total number of vowels in all of the words that the user enters. \n",
        "\n",
        "Note: Ideally, you should not count the 1 \"o\" in the \"stop\" that they typed at the end"
      ]
    },
    {
      "cell_type": "code",
      "metadata": {
        "id": "T7xsdQnS500e",
        "outputId": "a7972605-7a8b-4a00-eea8-6e80d7c71366",
        "colab": {
          "base_uri": "https://localhost:8080/",
          "height": 129
        }
      },
      "source": [
        "WORD = \"HELLO WORLD\"\n",
        "word = \"Hello World\"\n",
        "print(word.lower())\n",
        "print(word.upper())\n",
        "print(WORD.lower())\n",
        "print(WORD.upper())\n",
        "\n",
        "berry = \"berry\"\n",
        "garbage = \"ttttt\"\n",
        "def hasVowels(str):\n",
        "  for char in str:\n",
        "    if char in \"aeiouAEIOU\":\n",
        "      return True\n",
        "    else:\n",
        "      return  False\n",
        "\n",
        "  \n",
        "\n",
        "def countvowels(string):\n",
        "    num_vowels=0\n",
        "    for char in string:\n",
        "        if char in \"aeiouAEIOU\":\n",
        "           num_vowels = num_vowels+1\n",
        "    return num_vowels\n",
        "countvowels(berry)"
      ],
      "execution_count": 50,
      "outputs": [
        {
          "output_type": "error",
          "ename": "SyntaxError",
          "evalue": "ignored",
          "traceback": [
            "\u001b[0;36m  File \u001b[0;32m\"<ipython-input-50-bf83b5bcba9e>\"\u001b[0;36m, line \u001b[0;32m19\u001b[0m\n\u001b[0;31m    if True print(\"The string\", word, \"has at least one vowel\")\u001b[0m\n\u001b[0m                ^\u001b[0m\n\u001b[0;31mSyntaxError\u001b[0m\u001b[0;31m:\u001b[0m invalid syntax\n"
          ]
        }
      ]
    }
  ]
}