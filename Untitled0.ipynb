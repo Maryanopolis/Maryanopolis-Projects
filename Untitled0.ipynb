{
  "nbformat": 4,
  "nbformat_minor": 0,
  "metadata": {
    "colab": {
      "name": "Untitled0.ipynb",
      "provenance": [],
      "authorship_tag": "ABX9TyPTKlgLfzHsTDcoulPgAsOB",
      "include_colab_link": true
    },
    "kernelspec": {
      "name": "python3",
      "display_name": "Python 3"
    }
  },
  "cells": [
    {
      "cell_type": "markdown",
      "metadata": {
        "id": "view-in-github",
        "colab_type": "text"
      },
      "source": [
        "<a href=\"https://colab.research.google.com/github/Maryanopolis/Maryanopolis-Projects/blob/master/Untitled0.ipynb\" target=\"_parent\"><img src=\"https://colab.research.google.com/assets/colab-badge.svg\" alt=\"Open In Colab\"/></a>"
      ]
    },
    {
      "cell_type": "markdown",
      "metadata": {
        "id": "MHf-HK-MbEbW",
        "colab_type": "text"
      },
      "source": [
        ""
      ]
    },
    {
      "cell_type": "markdown",
      "metadata": {
        "id": "0XABeQIabB7i",
        "colab_type": "text"
      },
      "source": [
        "0) Define (def) a Python Function that takes no input and prints \"Hello World\"\n",
        "\n",
        "1) Define a Python Function that prints a message of your choice five times in a row. Please do this by putting a loop inside your function.\n",
        "\n",
        "2) Modify your function from the previous question so that it takes a number as input which tells the function how many times to print the message. That is, you should make your function more flexible by replacing the fixed number 5 with an input that determines how many times the message is printed.\n",
        "\n",
        "3) Define a function called square that takes in a number and returns the square of that number. Recall that the square of a number is just the number times itself.\n",
        "\n",
        "If you have done number (3) correctly, the following Python code should print 9 and 25.\n",
        "4) Define a function called bigger10 that takes in a number as input and returns whichever is bigger, the number or 10.\n",
        "\n",
        "To do this problem you will need to put an if statement inside your function.\n",
        "\n",
        "bigger10(8) returns 10 ... since 10 is the larger of 10 and 8.\n",
        "\n",
        "bigger10(2) returns 10 ... since 10 is the larger of 10 and 2.\n",
        "\n",
        "bigger10(15) returns 15 ... since 15 is the larger of 10 and 15.\n",
        "\n",
        "bigger10(20) returns 20 ... since 20 is the larger of 10 and 20.\n",
        "\n",
        "5) You can make a function take two inputs by putting two inputs inside the parentheses and separating them with a comma.\n",
        "\n",
        "Define a function called bigger that takes in two numbers as input and returns the bigger of the two numbers\n",
        "\n",
        "bigger(10, 8) returns 10 .... since 10 is the larger of 10 and 8\n",
        "\n",
        "bigger(12, 5) returns 12 ... since 12 is the larger of 12 and 5\n",
        "\n",
        "bigger(3, 5) returns 5 ... since 5 is the larger of 3 and 5\n",
        "\n",
        "bigger(12, 20) returns 20 ... since 20 is the larger of 12 and 20\n",
        "\n",
        "6) Write a short program that uses the function bigger which you just defined. Your program should ask the user to enter their age, and then ask the user to enter their friend's age. Finally, the program should use the bigger function and then print out the message:\n",
        "\n",
        "\"The older of the two people is **** years old\"\n",
        "\n",
        "(Where the **** should be replaced by the age of the older person)\n"
      ]
    },
    {
      "cell_type": "code",
      "metadata": {
        "id": "FhuJ_fcabO0i",
        "colab_type": "code",
        "colab": {
          "base_uri": "https://localhost:8080/",
          "height": 84
        },
        "outputId": "7cf2309d-cccf-4334-dee0-e96b926b8c03"
      },
      "source": [
        "def World():\n",
        "  print(\"Hello world\")\n",
        "World()\n",
        "def Howzit():\n",
        "  for howzit in range(int(input(\"Enter a Number\"))):\n",
        "    print(\" Howzit brother?\")\n",
        "Howzit()\n",
        "\n",
        "def MrSquare(number):\n",
        "  answer = number * number\n",
        "  return answer\n",
        "X = MrSquare(3)\n",
        "Y = MrSquare(5)\n",
        "print(\" The Answers Are \", X , \" And \" , Y)\n",
        "\n"
      ],
      "execution_count": 9,
      "outputs": [
        {
          "output_type": "stream",
          "text": [
            "Hello world\n",
            "Enter a Number1\n",
            " Howzit brother?\n",
            " The Answers Are  9  And  25\n"
          ],
          "name": "stdout"
        }
      ]
    },
    {
      "cell_type": "code",
      "metadata": {
        "id": "q405sMDWhGqW",
        "colab_type": "code",
        "colab": {
          "base_uri": "https://localhost:8080/",
          "height": 101
        },
        "outputId": "9d6c66a6-7cc9-46f9-9a87-9ba81c950754"
      },
      "source": [
        "def Bigger10(number):\n",
        "  if number > 10:\n",
        "    print(number, \" Is greater than 10\")\n",
        "  if number < 10:\n",
        "    print(10, \" Is greater than \", number)\n",
        "    \n",
        "Bigger10(6)\n",
        "\n",
        "\n",
        "def Bigger(num,numb):\n",
        "  if num > numb:\n",
        "    print(num, \" Is Greater Than \", numb)\n",
        "  if num < numb: \n",
        "    print(numb, \" Is Greater Than \", num)\n",
        "Bigger(5,9)\n",
        "\n",
        "def Old():\n",
        "  age = int(input(\" Give me your age please.\"))\n",
        "  Aged = int(input(\"And give me someone else's age please.\"))\n",
        "  if age > Aged:\n",
        "    print(\"The older of the two people is \", age ,  \" years old \")\n",
        "  if Aged > age:\n",
        "    print(\"The older of the two people is \", Aged ,  \" years old \")\n",
        "Old()"
      ],
      "execution_count": 22,
      "outputs": [
        {
          "output_type": "stream",
          "text": [
            "10  Is greater than  6\n",
            "9  Is Greater Than  5\n",
            " Give me your age please.20\n",
            "And give me someone else's age please.19\n",
            "The older of the two people is  20  years old \n"
          ],
          "name": "stdout"
        }
      ]
    }
  ]
}